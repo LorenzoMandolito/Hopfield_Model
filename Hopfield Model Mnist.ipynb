{
 "cells": [
  {
   "cell_type": "code",
   "execution_count": 1,
   "metadata": {},
   "outputs": [],
   "source": [
    "import numpy as np\n",
    "from numpy import random\n",
    "from matplotlib import pyplot as plt\n",
    "from keras.datasets import mnist"
   ]
  },
  {
   "cell_type": "code",
   "execution_count": 2,
   "metadata": {},
   "outputs": [],
   "source": [
    "def Crop(crop_x,crop_y,M_arr,K=[]):  \n",
    "    M_inv = np.zeros((28,28,len(K)))\n",
    "    for i in range(len(K)):\n",
    "        M_inv[:,:,i] = M_arr[i].reshape(28,28)\n",
    "        \n",
    "    return M_inv[crop_x:28-crop_x,crop_y:28-crop_y,:]\n",
    "\n",
    "def Plot(crop_x,crop_y,M_arr,K=[]):\n",
    "    M_inv = np.zeros((28-2*crop_x,28-2*crop_y,len(K)))\n",
    "    for i in range(0,len(K)):\n",
    "        M_inv[:,:,i] = M_arr[i].reshape(28-2*crop_x,28-2*crop_y)\n",
    "        plt.imshow(M_inv[:,:,i], cmap=plt.get_cmap('gray'))\n",
    "        plt.show()"
   ]
  },
  {
   "cell_type": "code",
   "execution_count": 3,
   "metadata": {},
   "outputs": [],
   "source": [
    "def Input_mnist(crop_x,crop_y,K=[]):\n",
    "    # loading\n",
    "    (X, y), (k,h) = mnist.load_data()\n",
    "    # Define patterns\n",
    "    M_arr = np.zeros((len(K),28*28))\n",
    "    l    = 0\n",
    "    flag = 0\n",
    "    for i in K:\n",
    "        for j in range(np.size(y)):\n",
    "            if y[j] == i:\n",
    "                if flag == 0:\n",
    "                    m = j\n",
    "                    M_arr[l,:] = np.ravel(X[j,:,:]) \n",
    "                    flag = 1\n",
    "                    l += 1\n",
    "        flag = 0\n",
    "    for i in range(len(K)):\n",
    "        M_arr[i] /= np.max(M_arr[i])\n",
    "    mask = M_arr<=0.5\n",
    "    M_arr[mask] = -1\n",
    "    M_arr[~mask] = 1\n",
    "    \n",
    "    M_mat = Crop(crop_x,crop_y,M_arr,K)\n",
    "    M_arr = np.zeros((len(K),(28-2*crop_x)*(28-2*crop_y)))\n",
    "    for i in range(0,len(K)):\n",
    "        M_arr[i,:] = np.ravel(M_mat[:,:,i]) \n",
    "    return M_arr"
   ]
  },
  {
   "cell_type": "code",
   "execution_count": 4,
   "metadata": {},
   "outputs": [],
   "source": [
    "def J(M_arr):\n",
    "    matrix_dim=M_arr.shape\n",
    "    J=np.zeros((matrix_dim[1],matrix_dim[1]))\n",
    "\n",
    "    for i in range(0,matrix_dim[1]):\n",
    "        for j in range(0,matrix_dim[1]):\n",
    "            if j!=i:\n",
    "                J[i,j]=np.sum([M_arr[a,i]*M_arr[a,j] for a in range(0,matrix_dim[0])])/matrix_dim[1]\n",
    "    return J"
   ]
  },
  {
   "cell_type": "markdown",
   "metadata": {},
   "source": [
    "Function used for the computation of J made by just nearest neighbours interactions. We can set the distance d of the range of interactions. We set d=2 because we find out that is the best approach."
   ]
  },
  {
   "cell_type": "code",
   "execution_count": 5,
   "metadata": {},
   "outputs": [],
   "source": [
    "def Distanza(i,j,k,l):\n",
    "    dist=np.sqrt((k-i)*(k-i)+(l-j)*(l-j))\n",
    "    return dist\n",
    "\n",
    "def Interazione(J,n,d):\n",
    "    for i in range(n):\n",
    "        for j in range(n):\n",
    "            for k in range(n):\n",
    "                for l in range(n):\n",
    "                    dist=Distanza(i,j,k,l)\n",
    "                    if dist>=d:\n",
    "                        a=i*n+j\n",
    "                        b=k*n+l\n",
    "                        J[a,b]=0\n",
    "    return J"
   ]
  },
  {
   "cell_type": "markdown",
   "metadata": {},
   "source": [
    "Function that compute a matrix Y of the same shape of M matrix but that has corrupted pattern inside. The grade of corruption is due to the parameter q"
   ]
  },
  {
   "cell_type": "code",
   "execution_count": 6,
   "metadata": {},
   "outputs": [],
   "source": [
    "def Wrong_patterns(q,M_arr):\n",
    " \n",
    "    Y=np.zeros((M_arr.shape))\n",
    "\n",
    "    for i in range(0,M_arr.shape[0]):\n",
    "        x=M_arr[i,:]\n",
    "\n",
    "        rand=np.random.random_sample()\n",
    "        for j in range(0,M_arr.shape[1]):\n",
    "            rand=np.random.random_sample()\n",
    "            if rand<=q:\n",
    "                Y[i,j]=x[j]\n",
    "            else:\n",
    "                Y[i,j]=-x[j]\n",
    "    return Y"
   ]
  },
  {
   "cell_type": "markdown",
   "metadata": {},
   "source": [
    "Function used to update y based on Hopfield Model. It returns the pattern detected or -1 if it cannot detects any patterns. It returns also the number of iterations done before reaching convergence. The alghoritms stops itself when the new Y is equal to the previous Y after a loop of the spins."
   ]
  },
  {
   "cell_type": "code",
   "execution_count": 7,
   "metadata": {},
   "outputs": [],
   "source": [
    "def Update_y(J,y,M_arr, conf=10, iter_max=100):\n",
    "    flag = 1\n",
    "    t    = 0 #iterazioni \n",
    "    \n",
    "    y_old    = np.zeros(len(y))\n",
    "    y_old[:] = y[:]\n",
    "    while(flag and t <= iter_max):\n",
    "\n",
    "        for i in range(J.shape[1]):\n",
    "            y[i] = np.sign(np.dot(J[i,:],y)) #se y_i= 0 --> sign(0) = 0 --> y_i = 1\n",
    "            if (y[i] == 0):\n",
    "                y[i] = 1\n",
    "\n",
    "        t += 1\n",
    "        k = 0\n",
    "        for j in range(0,len(y)): #Confronto con y_old \n",
    "            if(y[j] == y_old[j]):\n",
    "                k += 1\n",
    "        if k==len(y):\n",
    "            flag = 0\n",
    "        else:\n",
    "            y_old[:] = y[:]\n",
    "                \n",
    "                                # Pattern of y updated\n",
    "    P_a = -1\n",
    "    if (flag == 0):\n",
    "        \n",
    "        for i in range(M_arr.shape[0]):\n",
    "            k = 0\n",
    "            l = 0 #numero di bianki\n",
    "            for j in range(0,len(y)):\n",
    "                if M_arr[i,j] == -1:\n",
    "                    l += 1\n",
    "                if(y[j] == M_arr[i,j]): #and y[j] == -1):\n",
    "                    k += 1\n",
    "            if k >= (1-(conf/100))*len(y):\n",
    "                P_a = i\n",
    "               # print(P_a)\n",
    "                \n",
    "    #print(\"Final y:\")\n",
    "    #print(y)\n",
    "    return P_a,t"
   ]
  },
  {
   "cell_type": "markdown",
   "metadata": {},
   "source": [
    "This function determines the number of detected pattern by the function Update_y using a q loop"
   ]
  },
  {
   "cell_type": "code",
   "execution_count": 8,
   "metadata": {},
   "outputs": [],
   "source": [
    "def Detected_patterns_func(M,K,J,conf,q_list=[]):\n",
    "    \n",
    "    detected_patterns=[]\n",
    "    \n",
    "    for i in range(0,len(q_list)):\n",
    "        \n",
    "        t=0\n",
    "        Y=Wrong_patterns(q_list[i],M)\n",
    "        #print('for q=', '%.2f' % q_list[i]) #probabilità che sia giusta\n",
    "    \n",
    "        for j in range(0,len(K)):\n",
    "            pattern_giusto, iterazione= Update_y(J,Y[j],M,conf) \n",
    "            if pattern_giusto==-1:\n",
    "                pass\n",
    "            #print('no pattern detected in:', iterazione, 'iterations')\n",
    "            else:\n",
    "                t+=1\n",
    "            #print('pattern detected: ', pattern_giusto, 'in ', iterazione, 'iterations')\n",
    "            \n",
    "        detected_patterns.append(t)\n",
    "    return detected_patterns"
   ]
  },
  {
   "cell_type": "markdown",
   "metadata": {},
   "source": [
    "1 NO CROP NO NN"
   ]
  },
  {
   "cell_type": "code",
   "execution_count": 9,
   "metadata": {},
   "outputs": [],
   "source": [
    "K=[0,1,2,3,4,5,6,7,8,9]\n",
    "crop_x=0\n",
    "crop_y=0\n",
    "\n",
    "M=Input_mnist(crop_x,crop_y,K)\n",
    "M = np.array(M,dtype=np.float64)\n",
    "\n",
    "J_matrix=J(M)\n",
    "\n",
    "A=np.zeros((J_matrix.shape[0],J_matrix.shape[1]))\n",
    "A[:,:]=J_matrix[:,:]\n",
    "J_corretta=Interazione(A,(28-2*crop_y),2)\n",
    "\n",
    "#print('J: \\n', J_matrix)\n",
    "#print(J_corretta)"
   ]
  },
  {
   "cell_type": "code",
   "execution_count": 10,
   "metadata": {
    "scrolled": false
   },
   "outputs": [
    {
     "data": {
      "image/png": "[encoded data removed]",
      "text/plain": [
       "<Figure size 432x288 with 1 Axes>"
      ]
     },
     "metadata": {
      "needs_background": "light"
     },
     "output_type": "display_data"
    },
    {
     "data": {
      "image/png": "[encoded data removed]",
      "text/plain": [
       "<Figure size 432x288 with 1 Axes>"
      ]
     },
     "metadata": {
      "needs_background": "light"
     },
     "output_type": "display_data"
    },
    {
     "data": {
      "image/png": "[encoded data removed]",
      "text/plain": [
       "<Figure size 432x288 with 1 Axes>"
      ]
     },
     "metadata": {
      "needs_background": "light"
     },
     "output_type": "display_data"
    },
    {
     "data": {
      "image/png": "[encoded data removed]",
      "text/plain": [
       "<Figure size 432x288 with 1 Axes>"
      ]
     },
     "metadata": {
      "needs_background": "light"
     },
     "output_type": "display_data"
    },
    {
     "data": {
      "image/png": "[encoded data removed]",
      "text/plain": [
       "<Figure size 432x288 with 1 Axes>"
      ]
     },
     "metadata": {
      "needs_background": "light"
     },
     "output_type": "display_data"
    },
    {
     "data": {
      "image/png": "[encoded data removed]",
      "text/plain": [
       "<Figure size 432x288 with 1 Axes>"
      ]
     },
     "metadata": {
      "needs_background": "light"
     },
     "output_type": "display_data"
    },
    {
     "data": {
      "image/png": "[encoded data removed]",
      "text/plain": [
       "<Figure size 432x288 with 1 Axes>"
      ]
     },
     "metadata": {
      "needs_background": "light"
     },
     "output_type": "display_data"
    },
    {
     "data": {
      "image/png": "[encoded data removed]",
      "text/plain": [
       "<Figure size 432x288 with 1 Axes>"
      ]
     },
     "metadata": {
      "needs_background": "light"
     },
     "output_type": "display_data"
    },
    {
     "data": {
      "image/png": "[encoded data removed]",
      "text/plain": [
       "<Figure size 432x288 with 1 Axes>"
      ]
     },
     "metadata": {
      "needs_background": "light"
     },
     "output_type": "display_data"
    },
    {
     "data": {
      "image/png": "[encoded data removed]",
      "text/plain": [
       "<Figure size 432x288 with 1 Axes>"
      ]
     },
     "metadata": {
      "needs_background": "light"
     },
     "output_type": "display_data"
    }
   ],
   "source": [
    "Y_1=Wrong_patterns(0.99,M)\n",
    "\n",
    "Y_2=np.zeros(Y_1.shape)\n",
    "Y_2[:,:]=Y_1[:,:]\n",
    "\n",
    "Plot(crop_x,crop_y,Y_1,K)"
   ]
  },
  {
   "cell_type": "code",
   "execution_count": 11,
   "metadata": {
    "scrolled": true
   },
   "outputs": [
    {
     "data": {
      "image/png": "[encoded data removed]",
      "text/plain": [
       "<Figure size 432x288 with 1 Axes>"
      ]
     },
     "metadata": {
      "needs_background": "light"
     },
     "output_type": "display_data"
    },
    {
     "name": "stdout",
     "output_type": "stream",
     "text": [
      "no pattern detected in: 4 iterations \n",
      "\n"
     ]
    },
    {
     "data": {
      "image/png": "[encoded data removed]",
      "text/plain": [
       "<Figure size 432x288 with 1 Axes>"
      ]
     },
     "metadata": {
      "needs_background": "light"
     },
     "output_type": "display_data"
    },
    {
     "name": "stdout",
     "output_type": "stream",
     "text": [
      "no pattern detected in: 3 iterations \n",
      "\n"
     ]
    },
    {
     "data": {
      "image/png": "[encoded data removed]",
      "text/plain": [
       "<Figure size 432x288 with 1 Axes>"
      ]
     },
     "metadata": {
      "needs_background": "light"
     },
     "output_type": "display_data"
    },
    {
     "name": "stdout",
     "output_type": "stream",
     "text": [
      "no pattern detected in: 4 iterations \n",
      "\n"
     ]
    },
    {
     "data": {
      "image/png": "[encoded data removed]",
      "text/plain": [
       "<Figure size 432x288 with 1 Axes>"
      ]
     },
     "metadata": {
      "needs_background": "light"
     },
     "output_type": "display_data"
    },
    {
     "name": "stdout",
     "output_type": "stream",
     "text": [
      "no pattern detected in: 4 iterations \n",
      "\n"
     ]
    },
    {
     "data": {
      "image/png": "[encoded data removed]",
      "text/plain": [
       "<Figure size 432x288 with 1 Axes>"
      ]
     },
     "metadata": {
      "needs_background": "light"
     },
     "output_type": "display_data"
    },
    {
     "name": "stdout",
     "output_type": "stream",
     "text": [
      "no pattern detected in: 4 iterations \n",
      "\n"
     ]
    },
    {
     "data": {
      "image/png": "[encoded data removed]",
      "text/plain": [
       "<Figure size 432x288 with 1 Axes>"
      ]
     },
     "metadata": {
      "needs_background": "light"
     },
     "output_type": "display_data"
    },
    {
     "name": "stdout",
     "output_type": "stream",
     "text": [
      "no pattern detected in: 4 iterations \n",
      "\n"
     ]
    },
    {
     "data": {
      "image/png": "[encoded data removed]",
      "text/plain": [
       "<Figure size 432x288 with 1 Axes>"
      ]
     },
     "metadata": {
      "needs_background": "light"
     },
     "output_type": "display_data"
    },
    {
     "name": "stdout",
     "output_type": "stream",
     "text": [
      "no pattern detected in: 4 iterations \n",
      "\n"
     ]
    },
    {
     "data": {
      "image/png": "[encoded data removed]",
      "text/plain": [
       "<Figure size 432x288 with 1 Axes>"
      ]
     },
     "metadata": {
      "needs_background": "light"
     },
     "output_type": "display_data"
    },
    {
     "name": "stdout",
     "output_type": "stream",
     "text": [
      "no pattern detected in: 3 iterations \n",
      "\n"
     ]
    },
    {
     "data": {
      "image/png": "[encoded data removed]",
      "text/plain": [
       "<Figure size 432x288 with 1 Axes>"
      ]
     },
     "metadata": {
      "needs_background": "light"
     },
     "output_type": "display_data"
    },
    {
     "name": "stdout",
     "output_type": "stream",
     "text": [
      "no pattern detected in: 4 iterations \n",
      "\n"
     ]
    },
    {
     "data": {
      "image/png": "[encoded data removed]",
      "text/plain": [
       "<Figure size 432x288 with 1 Axes>"
      ]
     },
     "metadata": {
      "needs_background": "light"
     },
     "output_type": "display_data"
    },
    {
     "name": "stdout",
     "output_type": "stream",
     "text": [
      "no pattern detected in: 3 iterations \n",
      "\n"
     ]
    }
   ],
   "source": [
    "#Ricostruisce pattern senza interazion nn\n",
    "\n",
    "for j in range(0,len(K)):\n",
    "    pattern_giusto, iterazione= Update_y(J_matrix,Y_1[j],M, conf =5)\n",
    "    \n",
    "    M_inv = np.zeros((28-2*crop_x,28-2*crop_y,len(K)))\n",
    "    M_inv[:,:,j] = Y_1[j].reshape(28-2*crop_x,28-2*crop_y)\n",
    "    plt.imshow(M_inv[:,:,j], cmap=plt.get_cmap('gray'))\n",
    "    plt.show()\n",
    "    \n",
    "    if pattern_giusto==-1:\n",
    "        print('no pattern detected in:', iterazione, 'iterations \\n')\n",
    "    else:\n",
    "        print('pattern detected: ', pattern_giusto, 'in ', iterazione, 'iterations \\n')"
   ]
  },
  {
   "cell_type": "code",
   "execution_count": 12,
   "metadata": {
    "scrolled": false
   },
   "outputs": [],
   "source": [
    "#Ricostruisce pattern con interazion nn\n",
    "\n",
    "# for j in range(0,len(K)):\n",
    "#     pattern_giusto, iterazione= Update_y(J_corretta,Y_2[j],M, conf =5)\n",
    "    \n",
    "#     M_inv = np.zeros((28-2*crop_x,28-2*crop_y,len(K)))\n",
    "#     M_inv[:,:,j] = Y_2[j].reshape(28-2*crop_x,28-2*crop_y)\n",
    "#     plt.imshow(M_inv[:,:,j], cmap=plt.get_cmap('gray'))\n",
    "#     plt.show()\n",
    "    \n",
    "#     if pattern_giusto==-1:\n",
    "#         print('no pattern detected in:', iterazione, 'iterations \\n')\n",
    "#     else:\n",
    "#         print('pattern detected: ', pattern_giusto, 'in ', iterazione, 'iterations \\n')"
   ]
  },
  {
   "cell_type": "markdown",
   "metadata": {},
   "source": [
    "CROP VARIA NO NN"
   ]
  },
  {
   "cell_type": "code",
   "execution_count": 13,
   "metadata": {},
   "outputs": [],
   "source": [
    "K=[0,1,2,3,4,5,6,7,8,9]\n",
    "database_detected_patterns=[]\n",
    "\n",
    "for x in range(0,10):\n",
    "\n",
    "    crop_x=x\n",
    "    crop_y=x\n",
    "\n",
    "    M=Input_mnist(crop_x,crop_y,K)\n",
    "    M = np.array(M,dtype=np.float64)\n",
    "    J_matrix=J(M)\n",
    "    q_list=[0.9]\n",
    "\n",
    "    database_detected_patterns.append(Detected_patterns_func(M,K,J_matrix,5,q_list))"
   ]
  },
  {
   "cell_type": "code",
   "execution_count": 14,
   "metadata": {},
   "outputs": [
    {
     "name": "stdout",
     "output_type": "stream",
     "text": [
      "[[0], [0], [0], [0], [0], [0], [0], [2], [3], [6]]\n"
     ]
    },
    {
     "data": {
      "image/png": "[encoded data removed]",
      "text/plain": [
       "<Figure size 432x288 with 1 Axes>"
      ]
     },
     "metadata": {
      "needs_background": "light"
     },
     "output_type": "display_data"
    }
   ],
   "source": [
    "print(database_detected_patterns)\n",
    "x=np.arange(0,10)\n",
    "\n",
    "plt.plot(x,database_detected_patterns,label='Pattern reconstruction')\n",
    "plt.ylabel('# patterns')\n",
    "plt.xlabel('q')\n",
    "plt.legend()\n",
    "plt.show()"
   ]
  },
  {
   "cell_type": "markdown",
   "metadata": {},
   "source": [
    "Arrivati qua, vediamo che in un immagine 12x12 comincia a riconoscere i pattern, però non riusciamo più a visualizzare bene i numeri. Se diminuiamo il numero dei K, la griglia di soglia sopra la quale si cominciano a riconosce i pattern diventa più grande. Facciamo vedere che un crop 12x12 non si vedono più bene i numeri:"
   ]
  },
  {
   "cell_type": "code",
   "execution_count": 15,
   "metadata": {
    "scrolled": false
   },
   "outputs": [
    {
     "data": {
      "image/png": "[encoded data removed]",
      "text/plain": [
       "<Figure size 432x288 with 1 Axes>"
      ]
     },
     "metadata": {
      "needs_background": "light"
     },
     "output_type": "display_data"
    },
    {
     "data": {
      "image/png": "[encoded data removed]",
      "text/plain": [
       "<Figure size 432x288 with 1 Axes>"
      ]
     },
     "metadata": {
      "needs_background": "light"
     },
     "output_type": "display_data"
    },
    {
     "data": {
      "image/png": "[encoded data removed]",
      "text/plain": [
       "<Figure size 432x288 with 1 Axes>"
      ]
     },
     "metadata": {
      "needs_background": "light"
     },
     "output_type": "display_data"
    },
    {
     "data": {
      "image/png": "[encoded data removed]",
      "text/plain": [
       "<Figure size 432x288 with 1 Axes>"
      ]
     },
     "metadata": {
      "needs_background": "light"
     },
     "output_type": "display_data"
    },
    {
     "data": {
      "image/png": "[encoded data removed]",
      "text/plain": [
       "<Figure size 432x288 with 1 Axes>"
      ]
     },
     "metadata": {
      "needs_background": "light"
     },
     "output_type": "display_data"
    },
    {
     "data": {
      "image/png": "[encoded data removed]",
      "text/plain": [
       "<Figure size 432x288 with 1 Axes>"
      ]
     },
     "metadata": {
      "needs_background": "light"
     },
     "output_type": "display_data"
    },
    {
     "data": {
      "image/png": "[encoded data removed]",
      "text/plain": [
       "<Figure size 432x288 with 1 Axes>"
      ]
     },
     "metadata": {
      "needs_background": "light"
     },
     "output_type": "display_data"
    },
    {
     "data": {
      "image/png": "[encoded data removed]",
      "text/plain": [
       "<Figure size 432x288 with 1 Axes>"
      ]
     },
     "metadata": {
      "needs_background": "light"
     },
     "output_type": "display_data"
    },
    {
     "data": {
      "image/png": "[encoded data removed]",
      "text/plain": [
       "<Figure size 432x288 with 1 Axes>"
      ]
     },
     "metadata": {
      "needs_background": "light"
     },
     "output_type": "display_data"
    },
    {
     "data": {
      "image/png": "[encoded data removed]",
      "text/plain": [
       "<Figure size 432x288 with 1 Axes>"
      ]
     },
     "metadata": {
      "needs_background": "light"
     },
     "output_type": "display_data"
    }
   ],
   "source": [
    "K=[0,1,2,3,4,5,6,7,8,9]\n",
    "crop_x=8\n",
    "crop_y=8\n",
    "\n",
    "M=Input_mnist(crop_x,crop_y,K)\n",
    "M = np.array(M,dtype=np.float64)\n",
    "\n",
    "J_matrix=J(M)\n",
    "\n",
    "Plot(crop_x,crop_y,M,K)"
   ]
  },
  {
   "cell_type": "markdown",
   "metadata": {},
   "source": [
    "Si vedono male. Decidiamo di cropparci allora ad un 18x18 così da avere più informazioni sul 4, ma potrebbe andare anche bene un 16x16:"
   ]
  },
  {
   "cell_type": "code",
   "execution_count": 16,
   "metadata": {
    "scrolled": false
   },
   "outputs": [
    {
     "data": {
      "image/png": "[encoded data removed]",
      "text/plain": [
       "<Figure size 432x288 with 1 Axes>"
      ]
     },
     "metadata": {
      "needs_background": "light"
     },
     "output_type": "display_data"
    },
    {
     "data": {
      "image/png": "[encoded data removed]",
      "text/plain": [
       "<Figure size 432x288 with 1 Axes>"
      ]
     },
     "metadata": {
      "needs_background": "light"
     },
     "output_type": "display_data"
    },
    {
     "data": {
      "image/png": "[encoded data removed]",
      "text/plain": [
       "<Figure size 432x288 with 1 Axes>"
      ]
     },
     "metadata": {
      "needs_background": "light"
     },
     "output_type": "display_data"
    },
    {
     "data": {
      "image/png": "[encoded data removed]",
      "text/plain": [
       "<Figure size 432x288 with 1 Axes>"
      ]
     },
     "metadata": {
      "needs_background": "light"
     },
     "output_type": "display_data"
    },
    {
     "data": {
      "image/png": "[encoded data removed]",
      "text/plain": [
       "<Figure size 432x288 with 1 Axes>"
      ]
     },
     "metadata": {
      "needs_background": "light"
     },
     "output_type": "display_data"
    },
    {
     "data": {
      "image/png": "[encoded data removed]",
      "text/plain": [
       "<Figure size 432x288 with 1 Axes>"
      ]
     },
     "metadata": {
      "needs_background": "light"
     },
     "output_type": "display_data"
    },
    {
     "data": {
      "image/png": "[encoded data removed]",
      "text/plain": [
       "<Figure size 432x288 with 1 Axes>"
      ]
     },
     "metadata": {
      "needs_background": "light"
     },
     "output_type": "display_data"
    },
    {
     "data": {
      "image/png": "[encoded data removed]",
      "text/plain": [
       "<Figure size 432x288 with 1 Axes>"
      ]
     },
     "metadata": {
      "needs_background": "light"
     },
     "output_type": "display_data"
    },
    {
     "data": {
      "image/png": "[encoded data removed]",
      "text/plain": [
       "<Figure size 432x288 with 1 Axes>"
      ]
     },
     "metadata": {
      "needs_background": "light"
     },
     "output_type": "display_data"
    },
    {
     "data": {
      "image/png": "[encoded data removed]",
      "text/plain": [
       "<Figure size 432x288 with 1 Axes>"
      ]
     },
     "metadata": {
      "needs_background": "light"
     },
     "output_type": "display_data"
    }
   ],
   "source": [
    "K=[0,1,2,3,4,5,6,7,8,9]\n",
    "crop_x=5\n",
    "crop_y=5\n",
    "\n",
    "M=Input_mnist(crop_x,crop_y,K)\n",
    "M = np.array(M,dtype=np.float64)\n",
    "\n",
    "J_matrix=J(M)\n",
    "\n",
    "Plot(crop_x,crop_y,M,K)"
   ]
  },
  {
   "cell_type": "markdown",
   "metadata": {},
   "source": [
    "CROP 18 VARIAMO K SENZA INTERAZIONE VICINA"
   ]
  },
  {
   "cell_type": "code",
   "execution_count": 22,
   "metadata": {},
   "outputs": [
    {
     "name": "stdout",
     "output_type": "stream",
     "text": [
      "[0, 1, 2]\n",
      "[0, 1, 2, 3]\n",
      "[0, 1, 2, 3, 4]\n",
      "[0, 1, 2, 3, 4, 5]\n",
      "[0, 1, 2, 3, 4, 5, 6]\n",
      "[0, 1, 2, 3, 4, 5, 6, 7]\n",
      "[0, 1, 2, 3, 4, 5, 6, 7, 8]\n",
      "[0, 1, 2, 3, 4, 5, 6, 7, 8, 9]\n",
      "[0, 1, 2]\n",
      "[0, 1, 2, 3]\n",
      "[0, 1, 2, 3, 4]\n",
      "[0, 1, 2, 3, 4, 5]\n",
      "[0, 1, 2, 3, 4, 5, 6]\n",
      "[0, 1, 2, 3, 4, 5, 6, 7]\n",
      "[0, 1, 2, 3, 4, 5, 6, 7, 8]\n",
      "[0, 1, 2, 3, 4, 5, 6, 7, 8, 9]\n",
      "[0, 1, 2]\n",
      "[0, 1, 2, 3]\n",
      "[0, 1, 2, 3, 4]\n",
      "[0, 1, 2, 3, 4, 5]\n",
      "[0, 1, 2, 3, 4, 5, 6]\n",
      "[0, 1, 2, 3, 4, 5, 6, 7]\n",
      "[0, 1, 2, 3, 4, 5, 6, 7, 8]\n",
      "[0, 1, 2, 3, 4, 5, 6, 7, 8, 9]\n",
      "[0, 1, 2]\n",
      "[0, 1, 2, 3]\n",
      "[0, 1, 2, 3, 4]\n",
      "[0, 1, 2, 3, 4, 5]\n",
      "[0, 1, 2, 3, 4, 5, 6]\n",
      "[0, 1, 2, 3, 4, 5, 6, 7]\n",
      "[0, 1, 2, 3, 4, 5, 6, 7, 8]\n",
      "[0, 1, 2, 3, 4, 5, 6, 7, 8, 9]\n",
      "[0, 1, 2]\n",
      "[0, 1, 2, 3]\n",
      "[0, 1, 2, 3, 4]\n",
      "[0, 1, 2, 3, 4, 5]\n",
      "[0, 1, 2, 3, 4, 5, 6]\n",
      "[0, 1, 2, 3, 4, 5, 6, 7]\n",
      "[0, 1, 2, 3, 4, 5, 6, 7, 8]\n",
      "[0, 1, 2, 3, 4, 5, 6, 7, 8, 9]\n",
      "[0, 1, 2]\n",
      "[0, 1, 2, 3]\n",
      "[0, 1, 2, 3, 4]\n",
      "[0, 1, 2, 3, 4, 5]\n",
      "[0, 1, 2, 3, 4, 5, 6]\n",
      "[0, 1, 2, 3, 4, 5, 6, 7]\n",
      "[0, 1, 2, 3, 4, 5, 6, 7, 8]\n",
      "[0, 1, 2, 3, 4, 5, 6, 7, 8, 9]\n",
      "[0, 1, 2]\n",
      "[0, 1, 2, 3]\n",
      "[0, 1, 2, 3, 4]\n",
      "[0, 1, 2, 3, 4, 5]\n",
      "[0, 1, 2, 3, 4, 5, 6]\n",
      "[0, 1, 2, 3, 4, 5, 6, 7]\n",
      "[0, 1, 2, 3, 4, 5, 6, 7, 8]\n",
      "[0, 1, 2, 3, 4, 5, 6, 7, 8, 9]\n",
      "[0, 1, 2]\n",
      "[0, 1, 2, 3]\n",
      "[0, 1, 2, 3, 4]\n",
      "[0, 1, 2, 3, 4, 5]\n",
      "[0, 1, 2, 3, 4, 5, 6]\n",
      "[0, 1, 2, 3, 4, 5, 6, 7]\n",
      "[0, 1, 2, 3, 4, 5, 6, 7, 8]\n",
      "[0, 1, 2, 3, 4, 5, 6, 7, 8, 9]\n",
      "[0, 1, 2]\n",
      "[0, 1, 2, 3]\n",
      "[0, 1, 2, 3, 4]\n",
      "[0, 1, 2, 3, 4, 5]\n",
      "[0, 1, 2, 3, 4, 5, 6]\n",
      "[0, 1, 2, 3, 4, 5, 6, 7]\n",
      "[0, 1, 2, 3, 4, 5, 6, 7, 8]\n",
      "[0, 1, 2, 3, 4, 5, 6, 7, 8, 9]\n",
      "[0, 1, 2]\n",
      "[0, 1, 2, 3]\n",
      "[0, 1, 2, 3, 4]\n",
      "[0, 1, 2, 3, 4, 5]\n",
      "[0, 1, 2, 3, 4, 5, 6]\n",
      "[0, 1, 2, 3, 4, 5, 6, 7]\n",
      "[0, 1, 2, 3, 4, 5, 6, 7, 8]\n",
      "[0, 1, 2, 3, 4, 5, 6, 7, 8, 9]\n"
     ]
    }
   ],
   "source": [
    "Database=[]\n",
    "\n",
    "for k in range(0,10):\n",
    "    K=[0,1]\n",
    "    database_detected_patterns=[]\n",
    "    \n",
    "    for x in range(2,10):\n",
    "\n",
    "        crop_x=5\n",
    "        crop_y=5\n",
    "\n",
    "        M=Input_mnist(crop_x,crop_y,K)\n",
    "        M = np.array(M,dtype=np.float64)\n",
    "        J_matrix=J(M)\n",
    "        q_list=[0.6]\n",
    "\n",
    "        database_detected_patterns.append(Detected_patterns_func(M,K,J_matrix,5,q_list))\n",
    "        K.append(x)\n",
    "        #print(K)\n",
    "    Database.append(database_detected_patterns)"
   ]
  },
  {
   "cell_type": "code",
   "execution_count": 35,
   "metadata": {},
   "outputs": [
    {
     "data": {
      "image/png": "[encoded data removed]",
      "text/plain": [
       "<Figure size 432x288 with 1 Axes>"
      ]
     },
     "metadata": {
      "needs_background": "light"
     },
     "output_type": "display_data"
    },
    {
     "data": {
      "text/plain": [
       "<matplotlib.legend.Legend at 0x1c79e492640>"
      ]
     },
     "execution_count": 35,
     "metadata": {},
     "output_type": "execute_result"
    },
    {
     "data": {
      "image/png": "[encoded data removed]",
      "text/plain": [
       "<Figure size 432x288 with 1 Axes>"
      ]
     },
     "metadata": {
      "needs_background": "light"
     },
     "output_type": "display_data"
    }
   ],
   "source": [
    "mean_arr=np.mean(Database, axis=0)\n",
    "res=mean_arr.reshape(1,8)\n",
    "#print(mean_arr.reshape(1,8))\n",
    "x=np.arange(2,10)\n",
    "y=np.zeros(res.shape)\n",
    "y[:]=res[:]/x[:]\n",
    "plt.plot(x,mean_arr)  #pattern riconosciuti\n",
    "plt.show()\n",
    "plt.plot(x,y.T,label='Pattern reconstruction')  #percentuale pattern riconosciuti\n",
    "plt.ylabel('# patterns')\n",
    "plt.xlabel('# K')\n",
    "plt.legend()"
   ]
  },
  {
   "cell_type": "markdown",
   "metadata": {},
   "source": [
    "A questa probabilità 0.6 notiamo che fino a 4 patterns questo metodo va bene. oltre non riusciamo più a riconoscerli.\n",
    "Per queste percentuali e per riconoscere tutti questi pattern abbiamo bisogno di un altro metodo. Usiamo la J con interazione vicina"
   ]
  },
  {
   "cell_type": "markdown",
   "metadata": {},
   "source": [
    "CROP + INTERAZIONE VICINA\n",
    "Adesso consideriamo crop e interazione vicina, che è la migliore soluzione di tutte, calcolando i pattern riconosciuti al variare di q"
   ]
  },
  {
   "cell_type": "code",
   "execution_count": 36,
   "metadata": {},
   "outputs": [],
   "source": [
    "K=[0,1,2,3,4,5,6,7,8,9]\n",
    "crop_x=5\n",
    "crop_y=5\n",
    "\n",
    "M=Input_mnist(crop_x,crop_y,K)\n",
    "M = np.array(M,dtype=np.float64)\n",
    "\n",
    "J_matrix=J(M)\n",
    "\n",
    "A=np.zeros((J_matrix.shape[0],J_matrix.shape[1]))\n",
    "A[:,:]=J_matrix[:,:]\n",
    "J_corretta=Interazione(A,(28-2*crop_y),2)"
   ]
  },
  {
   "cell_type": "markdown",
   "metadata": {},
   "source": [
    "Qui gli diamo 10 giri e calcoliamo la media dei pattern riconosciuti al variare di q dopo 10 giri. Si noti che stiamo utilizzando tutti i numeri."
   ]
  },
  {
   "cell_type": "code",
   "execution_count": 38,
   "metadata": {},
   "outputs": [],
   "source": [
    "#interazione vicina MIGLIOR METODO DI TUTTI VIENE TUTTO BELLISSIMO\n",
    "q_list=np.arange(0.1,1,0.005)\n",
    "\n",
    "database_detected_patterns=[]\n",
    "for k in range(0,10):\n",
    "    database_detected_patterns.append(Detected_patterns_func(M,K,J_corretta,5,q_list))"
   ]
  },
  {
   "cell_type": "code",
   "execution_count": 39,
   "metadata": {},
   "outputs": [
    {
     "data": {
      "image/png": "[encoded data removed]",
      "text/plain": [
       "<Figure size 432x288 with 1 Axes>"
      ]
     },
     "metadata": {
      "needs_background": "light"
     },
     "output_type": "display_data"
    }
   ],
   "source": [
    "mean_arr=np.mean(database_detected_patterns, axis=0)\n",
    "\n",
    "plt.plot(q_list,mean_arr,label='Pattern reconstruction')\n",
    "plt.ylabel('# patterns')\n",
    "plt.xlabel('q')\n",
    "plt.legend()\n",
    "plt.show()"
   ]
  },
  {
   "cell_type": "code",
   "execution_count": 40,
   "metadata": {},
   "outputs": [
    {
     "data": {
      "image/png": "[encoded data removed]",
      "text/plain": [
       "<Figure size 432x288 with 1 Axes>"
      ]
     },
     "metadata": {
      "needs_background": "light"
     },
     "output_type": "display_data"
    }
   ],
   "source": [
    "q_list=np.arange(0.1,1,0.005)\n",
    "\n",
    "database_detected_patterns=[]\n",
    "for k in range(0,10):\n",
    "    database_detected_patterns.append(Detected_patterns_func(M,K,J_matrix,5,q_list))\n",
    "\n",
    "mean_arr=np.mean(database_detected_patterns, axis=0)\n",
    "\n",
    "plt.plot(q_list,mean_arr,label='Pattern reconstruction')\n",
    "plt.ylabel('# patterns')\n",
    "plt.xlabel('q')\n",
    "plt.legend()\n",
    "plt.show()"
   ]
  },
  {
   "cell_type": "code",
   "execution_count": null,
   "metadata": {},
   "outputs": [],
   "source": []
  }
 ],
 "metadata": {
  "kernelspec": {
   "display_name": "Python 3",
   "language": "python",
   "name": "python3"
  },
  "language_info": {
   "codemirror_mode": {
    "name": "ipython",
    "version": 3
   },
   "file_extension": ".py",
   "mimetype": "text/x-python",
   "name": "python",
   "nbconvert_exporter": "python",
   "pygments_lexer": "ipython3",
   "version": "3.8.3"
  }
 },
 "nbformat": 4,
 "nbformat_minor": 4
}
