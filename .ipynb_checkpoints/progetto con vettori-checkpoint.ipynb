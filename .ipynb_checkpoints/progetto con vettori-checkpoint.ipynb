{
 "cells": [
  {
   "cell_type": "code",
   "execution_count": 2,
   "metadata": {},
   "outputs": [],
   "source": [
    "#matrice J\n",
    "import numpy as np\n",
    "\n",
    "def J(M):\n",
    "    \n",
    "    matrix_dim=M.shape\n",
    "    J=np.zeros((matrix_dim[1],matrix_dim[1]))\n",
    "\n",
    "    for i in range(0,matrix_dim[1]):\n",
    "        for j in range(0,matrix_dim[1]):\n",
    "            if j!=i:\n",
    "                J[i,j]=np.sum([M[a,i]*M[a,j] for a in range(0,matrix_dim[0])])\n",
    "    return J"
   ]
  },
  {
   "cell_type": "code",
   "execution_count": 3,
   "metadata": {},
   "outputs": [],
   "source": [
    "# vettori sbagliati\n",
    "\n",
    "def Wrong_patterns(q,M):\n",
    "    from numpy import random\n",
    "\n",
    "    Y=np.zeros((M.shape))\n",
    "\n",
    "    for i in range(0,M.shape[0]):\n",
    "        x=M[i,:]\n",
    "        for j in range(0,M.shape[1]):\n",
    "            rand=np.random.random_sample()\n",
    "            if rand<=q:\n",
    "                Y[i,j]=x[j]\n",
    "            else:\n",
    "                Y[i,j]=-x[j]\n",
    "    return Y"
   ]
  },
  {
   "cell_type": "code",
   "execution_count": 3,
   "metadata": {},
   "outputs": [
    {
     "name": "stdout",
     "output_type": "stream",
     "text": [
      "patterns: [[ 1 -1  1 -1  1]\n",
      " [ 1 -1 -1 -1 -1]\n",
      " [-1 -1 -1  1 -1]\n",
      " [-1  1 -1 -1  1]\n",
      " [ 1 -1  1  1  1]\n",
      " [ 1  1 -1  1  1]\n",
      " [-1  1  1 -1  1]\n",
      " [ 1  1  1 -1  1]\n",
      " [ 1  1 -1  1 -1]\n",
      " [-1 -1 -1 -1  1]]\n",
      "matrice J:  [[ 0.  0.  2.  2.  0.]\n",
      " [ 0.  0.  0.  0.  2.]\n",
      " [ 2.  0.  0. -2.  4.]\n",
      " [ 2.  0. -2.  0. -4.]\n",
      " [ 0.  2.  4. -4.  0.]]\n"
     ]
    }
   ],
   "source": [
    "N=5 #numero spin\n",
    "P=10 #numero patterns\n",
    "M=np.random.randint(1,2, size= (P, N))*np.random.choice([-1,1],size= (P, N))\n",
    "print('patterns:',M)\n",
    "\n",
    "print('matrice J: ',J(M))"
   ]
  },
  {
   "cell_type": "code",
   "execution_count": 4,
   "metadata": {},
   "outputs": [
    {
     "name": "stdout",
     "output_type": "stream",
     "text": [
      "[0.1 0.2 0.3 0.4 0.5 0.6 0.7 0.8 0.9]\n",
      "for q= 0.1 [[-1.  1. -1.  1. -1.]\n",
      " [-1.  1.  1. -1.  1.]\n",
      " [ 1.  1.  1.  1.  1.]\n",
      " [ 1. -1.  1.  1. -1.]\n",
      " [-1.  1. -1. -1. -1.]\n",
      " [-1. -1.  1.  1. -1.]\n",
      " [ 1.  1. -1.  1. -1.]\n",
      " [-1. -1. -1.  1. -1.]\n",
      " [-1. -1. -1. -1.  1.]\n",
      " [ 1.  1. -1.  1. -1.]]\n",
      "for q= 0.2 [[-1.  1. -1.  1. -1.]\n",
      " [-1.  1.  1.  1.  1.]\n",
      " [ 1. -1. -1. -1. -1.]\n",
      " [ 1. -1.  1.  1. -1.]\n",
      " [-1. -1. -1. -1.  1.]\n",
      " [ 1. -1.  1. -1. -1.]\n",
      " [-1. -1. -1.  1. -1.]\n",
      " [-1. -1.  1.  1. -1.]\n",
      " [ 1. -1.  1. -1. -1.]\n",
      " [ 1. -1.  1. -1. -1.]]\n",
      "for q= 0.3 [[-1.  1. -1. -1. -1.]\n",
      " [-1.  1.  1. -1.  1.]\n",
      " [ 1.  1.  1.  1.  1.]\n",
      " [-1. -1.  1.  1. -1.]\n",
      " [-1.  1. -1. -1. -1.]\n",
      " [-1. -1.  1.  1. -1.]\n",
      " [ 1.  1. -1.  1. -1.]\n",
      " [ 1. -1.  1.  1. -1.]\n",
      " [-1. -1. -1. -1.  1.]\n",
      " [ 1. -1.  1.  1. -1.]]\n",
      "for q= 0.4 [[-1.  1. -1.  1.  1.]\n",
      " [-1.  1.  1.  1. -1.]\n",
      " [ 1.  1.  1. -1. -1.]\n",
      " [-1. -1. -1. -1.  1.]\n",
      " [ 1. -1. -1. -1. -1.]\n",
      " [ 1.  1. -1.  1.  1.]\n",
      " [-1. -1. -1.  1. -1.]\n",
      " [-1.  1.  1.  1.  1.]\n",
      " [-1. -1. -1. -1.  1.]\n",
      " [ 1.  1. -1.  1. -1.]]\n",
      "for q= 0.5 [[ 1.  1.  1. -1.  1.]\n",
      " [-1. -1. -1.  1. -1.]\n",
      " [ 1. -1. -1.  1. -1.]\n",
      " [-1.  1.  1. -1.  1.]\n",
      " [ 1. -1. -1.  1. -1.]\n",
      " [ 1.  1.  1.  1. -1.]\n",
      " [-1.  1. -1.  1. -1.]\n",
      " [ 1. -1.  1. -1.  1.]\n",
      " [-1. -1.  1. -1. -1.]\n",
      " [-1.  1. -1.  1. -1.]]\n",
      "for q= 0.6 [[ 1.  1.  1. -1. -1.]\n",
      " [-1. -1. -1. -1.  1.]\n",
      " [ 1. -1.  1.  1. -1.]\n",
      " [ 1.  1.  1. -1.  1.]\n",
      " [ 1. -1.  1. -1.  1.]\n",
      " [-1.  1.  1. -1.  1.]\n",
      " [-1. -1. -1.  1. -1.]\n",
      " [-1.  1.  1. -1. -1.]\n",
      " [ 1. -1.  1.  1. -1.]\n",
      " [-1. -1. -1.  1.  1.]]\n",
      "for q= 0.7 [[ 1.  1.  1.  1. -1.]\n",
      " [ 1. -1. -1.  1. -1.]\n",
      " [-1. -1. -1.  1. -1.]\n",
      " [ 1.  1. -1. -1.  1.]\n",
      " [ 1.  1.  1.  1. -1.]\n",
      " [ 1.  1. -1.  1.  1.]\n",
      " [ 1.  1.  1. -1.  1.]\n",
      " [ 1.  1. -1. -1.  1.]\n",
      " [-1.  1.  1. -1.  1.]\n",
      " [ 1. -1. -1.  1. -1.]]\n",
      "for q= 0.8 [[ 1. -1.  1. -1.  1.]\n",
      " [ 1. -1.  1.  1. -1.]\n",
      " [-1. -1. -1. -1.  1.]\n",
      " [ 1.  1. -1. -1.  1.]\n",
      " [ 1.  1.  1.  1.  1.]\n",
      " [ 1.  1.  1.  1.  1.]\n",
      " [ 1.  1.  1. -1.  1.]\n",
      " [-1.  1.  1. -1.  1.]\n",
      " [ 1.  1. -1.  1. -1.]\n",
      " [-1. -1.  1.  1. -1.]]\n",
      "for q= 0.9 [[ 1. -1.  1. -1.  1.]\n",
      " [ 1. -1. -1. -1. -1.]\n",
      " [-1. -1. -1.  1. -1.]\n",
      " [-1.  1. -1. -1. -1.]\n",
      " [ 1. -1.  1.  1.  1.]\n",
      " [ 1.  1. -1.  1.  1.]\n",
      " [-1. -1.  1. -1.  1.]\n",
      " [ 1.  1.  1. -1. -1.]\n",
      " [ 1.  1. -1.  1. -1.]\n",
      " [-1. -1. -1. -1.  1.]]\n"
     ]
    }
   ],
   "source": [
    "#la funzione di ricostruzione ci restituisce un vettore giusto e ci dice se raggiunge convergenza e a che pattern corrisponde\n",
    "q_list=np.arange(0.1,1,0.1)\n",
    "print(q_list)\n",
    "\n",
    "for i in range(0,9):\n",
    "    print('for q=', '%.1f' % q_list[i],Wrong_patterns(q_list[i],M))"
   ]
  },
  {
   "cell_type": "code",
   "execution_count": 14,
   "metadata": {},
   "outputs": [
    {
     "name": "stdout",
     "output_type": "stream",
     "text": [
      "patterns: [[-1.  1.  1. -1.  1.]\n",
      " [ 1. -1.  1. -1.  1.]\n",
      " [ 1.  1.  1. -1.  1.]\n",
      " [-1. -1. -1. -1. -1.]]\n",
      "matrice J:  [[ 0.  0.  2.  0.  2.]\n",
      " [ 0.  0.  2.  0.  2.]\n",
      " [ 2.  2.  0. -2.  4.]\n",
      " [ 0.  0. -2.  0. -2.]\n",
      " [ 2.  2.  4. -2.  0.]]\n",
      "[ 1.  1.  1. -1.  1.]\n",
      "old y: [ 1.  1.  1. -1.  1.]\n",
      "[ 1.  1.  1. -1.  1.]\n",
      "[ 1.  1.  1. -1.  1.]\n",
      "[ 1.  1.  1. -1.  1.]\n",
      "[ 1.  1.  1. -1.  1.]\n",
      "[ 1.  1.  1. -1.  1.]\n",
      "Final y:\n",
      "[ 1.  1.  1. -1.  1.]\n",
      "2 1\n"
     ]
    }
   ],
   "source": [
    "M=np.array([[-1,1,1,-1,1],[1,-1,1,-1,1],[1,1,1,-1,1],[-1,-1,-1,-1,-1]])\n",
    "\n",
    "M = np.array(M,dtype=np.float64)\n",
    "print('patterns:',M)\n",
    "J_matrix=J(M)\n",
    "print('matrice J: ',J_matrix)\n",
    "\n",
    "Y_bu=Wrong_patterns(0.5,M)\n",
    "print(Y_bu[0])\n",
    "#y=[1,-1,1,-1,1]\n",
    "pattern_giust, iterazione= update_y(J_matrix,Y_bu[0],M)\n",
    "print(pattern_giust,iterazione)"
   ]
  },
  {
   "cell_type": "code",
   "execution_count": 175,
   "metadata": {},
   "outputs": [
    {
     "ename": "KeyboardInterrupt",
     "evalue": "",
     "output_type": "error",
     "traceback": [
      "\u001b[1;31m---------------------------------------------------------------------------\u001b[0m",
      "\u001b[1;31mKeyboardInterrupt\u001b[0m                         Traceback (most recent call last)",
      "\u001b[1;32m<ipython-input-175-46aa10696cf3>\u001b[0m in \u001b[0;36m<module>\u001b[1;34m\u001b[0m\n\u001b[0;32m     14\u001b[0m \u001b[1;33m\u001b[0m\u001b[0m\n\u001b[0;32m     15\u001b[0m     \u001b[1;32mreturn\u001b[0m \u001b[0mM\u001b[0m\u001b[1;33m\u001b[0m\u001b[1;33m\u001b[0m\u001b[0m\n\u001b[1;32m---> 16\u001b[1;33m \u001b[0mprint\u001b[0m\u001b[1;33m(\u001b[0m\u001b[0mcreate_M\u001b[0m\u001b[1;33m(\u001b[0m\u001b[1;36m3\u001b[0m\u001b[1;33m,\u001b[0m\u001b[1;36m2\u001b[0m\u001b[1;33m)\u001b[0m\u001b[1;33m)\u001b[0m\u001b[1;33m\u001b[0m\u001b[1;33m\u001b[0m\u001b[0m\n\u001b[0m",
      "\u001b[1;32m<ipython-input-175-46aa10696cf3>\u001b[0m in \u001b[0;36mcreate_M\u001b[1;34m(P, N)\u001b[0m\n\u001b[0;32m      7\u001b[0m     \u001b[1;32mfor\u001b[0m \u001b[0mi\u001b[0m \u001b[1;32min\u001b[0m \u001b[0mrange\u001b[0m\u001b[1;33m(\u001b[0m\u001b[1;36m0\u001b[0m\u001b[1;33m,\u001b[0m\u001b[0mP\u001b[0m\u001b[1;33m)\u001b[0m\u001b[1;33m:\u001b[0m\u001b[1;33m\u001b[0m\u001b[1;33m\u001b[0m\u001b[0m\n\u001b[0;32m      8\u001b[0m         \u001b[1;32mwhile\u001b[0m \u001b[0mk\u001b[0m\u001b[1;33m==\u001b[0m\u001b[1;36m0\u001b[0m\u001b[1;33m:\u001b[0m\u001b[1;33m\u001b[0m\u001b[1;33m\u001b[0m\u001b[0m\n\u001b[1;32m----> 9\u001b[1;33m             \u001b[0mM\u001b[0m\u001b[1;33m[\u001b[0m\u001b[0mi\u001b[0m\u001b[1;33m]\u001b[0m \u001b[1;33m=\u001b[0m \u001b[0mnp\u001b[0m\u001b[1;33m.\u001b[0m\u001b[0mrandom\u001b[0m\u001b[1;33m.\u001b[0m\u001b[0mchoice\u001b[0m\u001b[1;33m(\u001b[0m\u001b[1;33m[\u001b[0m\u001b[1;33m-\u001b[0m\u001b[1;36m1\u001b[0m\u001b[1;33m,\u001b[0m\u001b[1;36m1\u001b[0m\u001b[1;33m]\u001b[0m\u001b[1;33m,\u001b[0m\u001b[0msize\u001b[0m\u001b[1;33m=\u001b[0m\u001b[0mN\u001b[0m\u001b[1;33m)\u001b[0m\u001b[1;33m\u001b[0m\u001b[1;33m\u001b[0m\u001b[0m\n\u001b[0m\u001b[0;32m     10\u001b[0m             \u001b[1;32mfor\u001b[0m \u001b[0mj\u001b[0m \u001b[1;32min\u001b[0m \u001b[0mrange\u001b[0m\u001b[1;33m(\u001b[0m\u001b[1;36m0\u001b[0m\u001b[1;33m,\u001b[0m\u001b[0mi\u001b[0m\u001b[1;33m)\u001b[0m\u001b[1;33m:\u001b[0m\u001b[1;33m\u001b[0m\u001b[1;33m\u001b[0m\u001b[0m\n\u001b[0;32m     11\u001b[0m \u001b[1;33m\u001b[0m\u001b[0m\n",
      "\u001b[1;31mKeyboardInterrupt\u001b[0m: "
     ]
    }
   ],
   "source": [
    "def create_M(P,N):\n",
    "    import numpy as np\n",
    "    M = np.zeros((P,N))\n",
    "    M[0]= np.random.choice([-1,1],size=N)\n",
    "    \n",
    "    k=0\n",
    "    for i in range(0,P):\n",
    "        while k==0:\n",
    "            M[i] = np.random.choice([-1,1],size=N)\n",
    "            for j in range(0,i):\n",
    "                \n",
    "                if (((M[i]==M[j]).all()==True)):\n",
    "                    k += 1\n",
    "                    \n",
    "    return M\n",
    "print(create_M(3,2))"
   ]
  },
  {
   "cell_type": "code",
   "execution_count": 94,
   "metadata": {},
   "outputs": [
    {
     "name": "stdout",
     "output_type": "stream",
     "text": [
      "[[1. 1.]\n",
      " [1. 1.]\n",
      " [1. 1.]]\n",
      "[[0. 0.]\n",
      " [0. 0.]\n",
      " [0. 0.]]\n",
      "[[-1.  1.]\n",
      " [ 0.  0.]\n",
      " [ 0.  0.]]\n"
     ]
    },
    {
     "data": {
      "text/plain": [
       "False"
      ]
     },
     "execution_count": 94,
     "metadata": {},
     "output_type": "execute_result"
    }
   ],
   "source": [
    "def create_M(P,N):\n",
    "    import numpy as np\n",
    "    M = np.zeros((P,N))\n",
    "    M[0]= np.random.choice([-1,1],size=N)\n",
    "    \n",
    "    for i in range(1,P):\n",
    "        k = 0\n",
    "        M[i] = np.random.choice([-1,1],size=N)\n",
    "        for j in range(0,i):\n",
    "            if (M[i]!=M[j]).all()==True :\n",
    "                k+=1\n",
    "        if k==i:\n",
    "    return M\n",
    "print(create_M(3,2))"
   ]
  },
  {
   "cell_type": "code",
   "execution_count": 174,
   "metadata": {},
   "outputs": [
    {
     "name": "stdout",
     "output_type": "stream",
     "text": [
      "[2. 5. 9. 6. 7.]\n",
      "si\n"
     ]
    }
   ],
   "source": [
    "vuoto=np.zeros(5)\n",
    "\n",
    "for i in range(0,5):\n",
    "    vuoto[i]=np.random.randint(10)\n",
    "print(vuoto)\n",
    "\n",
    "k=0\n",
    "for i in range(0,5):\n",
    "    for j in range(0,i):\n",
    "        if vuoto[i]==vuoto[j]:\n",
    "            k+=1\n",
    "if k>=1:\n",
    "    print('NO')\n",
    "else:\n",
    "    print('si')"
   ]
  },
  {
   "cell_type": "code",
   "execution_count": 7,
   "metadata": {},
   "outputs": [],
   "source": [
    "def update_y(J,y,M,iter_max=100):\n",
    "    import numpy as np\n",
    "    flag = 1\n",
    "    t    = 0 \n",
    "    \n",
    "    # Update\n",
    "    y_old    = np.zeros(len(y))\n",
    "    y_old[:] = y[:]\n",
    "    while(flag and t <= iter_max):\n",
    "        print('old y:', y_old)\n",
    "        for i in range(J.shape[1]):\n",
    "            y[i] = np.sign(np.dot(J[i,:],y))\n",
    "            if (y[i]==0):\n",
    "                y[i] = 1\n",
    "            print(y)\n",
    "        t += 1\n",
    "        k = 0\n",
    "        for j in range(0,len(y)):\n",
    "            if(y[j] == y_old[j]):\n",
    "                k += 1\n",
    "        if k==len(y):\n",
    "            flag = 0\n",
    "        else:\n",
    "            y_old[:] = y[:]\n",
    "                \n",
    "    # Pattern of y updated\n",
    "    P_a = -1\n",
    "    if (flag == 0):\n",
    "        for i in range(M.shape[0]):\n",
    "            k = 0\n",
    "            for j in range(0,len(y)):\n",
    "                if(y[j] == M[i,j]):\n",
    "                    k += 1\n",
    "            if k == len(y):\n",
    "                P_a = i\n",
    "    print(\"Final y:\")\n",
    "    print(y)\n",
    "    return P_a,t"
   ]
  },
  {
   "cell_type": "code",
   "execution_count": null,
   "metadata": {},
   "outputs": [],
   "source": []
  }
 ],
 "metadata": {
  "kernelspec": {
   "display_name": "Python 3",
   "language": "python",
   "name": "python3"
  },
  "language_info": {
   "codemirror_mode": {
    "name": "ipython",
    "version": 3
   },
   "file_extension": ".py",
   "mimetype": "text/x-python",
   "name": "python",
   "nbconvert_exporter": "python",
   "pygments_lexer": "ipython3",
   "version": "3.8.5"
  }
 },
 "nbformat": 4,
 "nbformat_minor": 4
}
