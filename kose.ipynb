{
 "cells": [
  {
   "cell_type": "code",
   "execution_count": 51,
   "metadata": {},
   "outputs": [],
   "source": [
    "import numpy as np\n",
    "\n",
    "def Input_mnist(P=10):\n",
    "    import numpy as np\n",
    "    from keras.datasets import mnist\n",
    "    # loading\n",
    "    (X, y), (k,h) = mnist.load_data()\n",
    "    # Define patterns\n",
    "    M = np.zeros((10,28*28))\n",
    "    l    = 0\n",
    "    flag = 0\n",
    "    for i in range(0,10):\n",
    "        for j in range(np.size(y)):\n",
    "            if y[j] == i:\n",
    "                if flag == 0:\n",
    "                    m = j\n",
    "                    M[l,:] = np.ravel(X[j,:,:]) \n",
    "                    flag = 1\n",
    "                    l += 1\n",
    "        flag = 0\n",
    "    for i in range(0,10):\n",
    "        M[i] /= np.max(M[i])\n",
    "    mask = M<=0.5\n",
    "    M[mask] = -1\n",
    "    M[~mask] = 1\n",
    "    return M\n",
    "\n",
    "\n",
    "    \n",
    "J = Input_mnist()\n"
   ]
  },
  {
   "cell_type": "code",
   "execution_count": 8,
   "metadata": {},
   "outputs": [],
   "source": [
    "def update_y(J,y,M,iter_max=100):\n",
    "    import numpy as np\n",
    "    flag = 1\n",
    "    t    = 0 \n",
    "    \n",
    "    # Update\n",
    "    y_old    = np.zeros(len(y))\n",
    "    y_old[:] = y[:]\n",
    "    while(flag and t <= iter_max):    \n",
    "            for i in range(J.shape[1]):\n",
    "                y[i] = np.sign(np.inner(J[i,:],y))\n",
    "                if (y[i]==0):\n",
    "                    y[i] = 1\n",
    "            t += 1\n",
    "            if(y == y_old):\n",
    "                flag = 0\n",
    "            else:\n",
    "                y_old[:] = y[:]\n",
    "                \n",
    "    # Pattern of y updated\n",
    "    P_a = -1\n",
    "    if (flag == 0):\n",
    "        for i in range(M.shape[0]):\n",
    "            if (y == M[i,:]):\n",
    "                P_a = i\n",
    "    \n",
    "    return P_a,t\n",
    "        \n",
    "        \n",
    "                "
   ]
  },
  {
   "cell_type": "code",
   "execution_count": 6,
   "metadata": {},
   "outputs": [
    {
     "name": "stdout",
     "output_type": "stream",
     "text": [
      "14\n"
     ]
    }
   ],
   "source": []
  }
 ],
 "metadata": {
  "kernelspec": {
   "display_name": "Python 3",
   "language": "python",
   "name": "python3"
  },
  "language_info": {
   "codemirror_mode": {
    "name": "ipython",
    "version": 3
   },
   "file_extension": ".py",
   "mimetype": "text/x-python",
   "name": "python",
   "nbconvert_exporter": "python",
   "pygments_lexer": "ipython3",
   "version": "3.8.5"
  }
 },
 "nbformat": 4,
 "nbformat_minor": 4
}
