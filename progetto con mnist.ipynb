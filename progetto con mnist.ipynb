{
 "cells": [
  {
   "cell_type": "code",
   "execution_count": 94,
   "metadata": {},
   "outputs": [],
   "source": [
    "import numpy as np\n",
    "\n",
    "def Input_mnist(P=10):\n",
    "    import numpy as np\n",
    "    from keras.datasets import mnist\n",
    "    # loading\n",
    "    (X, y), (k,h) = mnist.load_data()\n",
    "    # Define patterns\n",
    "    M = np.zeros((P,28*28))\n",
    "    l    = 0\n",
    "    flag = 0\n",
    "    for i in range(0,P):\n",
    "        for j in range(np.size(y)):\n",
    "            if y[j] == i:\n",
    "                if flag == 0:\n",
    "                    m = j\n",
    "                    M[l,:] = np.ravel(X[j,:,:]) \n",
    "                    flag = 1\n",
    "                    l += 1\n",
    "        flag = 0\n",
    "    for i in range(0,P):\n",
    "        M[i] /= np.max(M[i])\n",
    "    mask = M<=0.5\n",
    "    M[mask] = -1\n",
    "    M[~mask] = 1\n",
    "    return M"
   ]
  },
  {
   "cell_type": "code",
   "execution_count": 2,
   "metadata": {},
   "outputs": [],
   "source": [
    "import numpy as np\n",
    "\n",
    "def J(M):\n",
    "    \n",
    "    matrix_dim=M.shape\n",
    "    J=np.zeros((matrix_dim[1],matrix_dim[1]))\n",
    "\n",
    "    for i in range(0,matrix_dim[1]):\n",
    "        for j in range(0,matrix_dim[1]):\n",
    "            if j!=i:\n",
    "                J[i,j]=np.sum([M[a,i]*M[a,j] for a in range(0,matrix_dim[0])])/matrix_dim[1]\n",
    "    return J"
   ]
  },
  {
   "cell_type": "code",
   "execution_count": 3,
   "metadata": {},
   "outputs": [],
   "source": [
    "def Wrong_patterns(q,M):\n",
    "    from numpy import random\n",
    "\n",
    "    Y=np.zeros((M.shape))\n",
    "\n",
    "    for i in range(0,M.shape[0]):\n",
    "        x=M[i,:]\n",
    "\n",
    "        rand=np.random.random_sample()\n",
    "        for j in range(0,M.shape[1]):\n",
    "            rand=np.random.random_sample()\n",
    "            if rand<=q:\n",
    "                Y[i,j]=x[j]\n",
    "            else:\n",
    "                Y[i,j]=-x[j]\n",
    "    return Y"
   ]
  },
  {
   "cell_type": "code",
   "execution_count": 106,
   "metadata": {},
   "outputs": [],
   "source": [
    "def update_y(J,y,M,iter_max=100):\n",
    "    import numpy as np\n",
    "    flag = 1\n",
    "    t    = 0 \n",
    "    \n",
    "    # Update\n",
    "    y_old    = np.zeros(len(y))\n",
    "    y_old[:] = y[:]\n",
    "    while(flag and t <= iter_max):\n",
    "        for i in range(0,J.shape[1]):\n",
    "            y[i] = np.sign(np.dot(J[i,:],y))\n",
    "            if (y[i]==0):\n",
    "                y[i] = 1\n",
    "        t += 1\n",
    "        k = 0\n",
    "        for j in range(0,len(y)):\n",
    "            if(y[j] == y_old[j]):\n",
    "                k += 1\n",
    "        if k==len(y):\n",
    "            flag = 0\n",
    "        else:\n",
    "            y_old[:] = y[:]\n",
    "                \n",
    "    # Pattern of y updated\n",
    "    P_a = -1\n",
    "    if (flag == 0):\n",
    "        for i in range(0,M.shape[0]):\n",
    "            k = 0\n",
    "            for j in range(0,len(y)):\n",
    "                if(y[j] == M[i,j]):\n",
    "                    k += 1\n",
    "            if k == len(y):\n",
    "                P_a = i\n",
    "#     print(\"Final y:\")\n",
    "#     print(y)\n",
    "    return P_a,t"
   ]
  },
  {
   "cell_type": "code",
   "execution_count": 5,
   "metadata": {},
   "outputs": [],
   "source": [
    "# def J_nn(M):\n",
    "    \n",
    "#     matrix_dim=M.shape\n",
    "#     J=np.zeros((matrix_dim[1],matrix_dim[1]))\n",
    "    \n",
    "#     for i in range(0,matrix_dim[1]):\n",
    "#         for j in range(0,matrix_dim[1]):\n",
    "#             if j!=i:\n",
    "#                 J[i,j]=np.sum([M[a,i]*M[a,j] for a in range(0,matrix_dim[0])])/matrix_dim[1]\n",
    "#     return J"
   ]
  },
  {
   "cell_type": "code",
   "execution_count": 95,
   "metadata": {},
   "outputs": [
    {
     "name": "stdout",
     "output_type": "stream",
     "text": [
      "patterns: [[-1. -1. -1. ... -1. -1. -1.]\n",
      " [-1. -1. -1. ... -1. -1. -1.]] shape: (2, 784)\n",
      "J:  [[0.         0.00255102 0.00255102 ... 0.00255102 0.00255102 0.00255102]\n",
      " [0.00255102 0.         0.00255102 ... 0.00255102 0.00255102 0.00255102]\n",
      " [0.00255102 0.00255102 0.         ... 0.00255102 0.00255102 0.00255102]\n",
      " ...\n",
      " [0.00255102 0.00255102 0.00255102 ... 0.         0.00255102 0.00255102]\n",
      " [0.00255102 0.00255102 0.00255102 ... 0.00255102 0.         0.00255102]\n",
      " [0.00255102 0.00255102 0.00255102 ... 0.00255102 0.00255102 0.        ]]\n"
     ]
    }
   ],
   "source": [
    "M=Input_mnist(2)\n",
    "J_matrix=J(M)\n",
    "\n",
    "print('patterns:',M, 'shape:', M.shape)\n",
    "print('J: ', J_matrix)"
   ]
  },
  {
   "cell_type": "code",
   "execution_count": 242,
   "metadata": {},
   "outputs": [
    {
     "name": "stdout",
     "output_type": "stream",
     "text": [
      "-1 2\n"
     ]
    }
   ],
   "source": [
    "Y_bu=Wrong_patterns(0.5,M)\n",
    "#print(Y_bu[0])\n",
    "pattern_giust, iterazione= update_y(J_matrix,Y_bu[0,:],M)\n",
    "print(pattern_giust,iterazione)"
   ]
  },
  {
   "cell_type": "code",
   "execution_count": 171,
   "metadata": {},
   "outputs": [
    {
     "data": {
      "text/plain": [
       "0.566563196594316"
      ]
     },
     "execution_count": 171,
     "metadata": {},
     "output_type": "execute_result"
    }
   ],
   "source": [
    "np.random.random_sample()"
   ]
  }
 ],
 "metadata": {
  "kernelspec": {
   "display_name": "Python 3",
   "language": "python",
   "name": "python3"
  },
  "language_info": {
   "codemirror_mode": {
    "name": "ipython",
    "version": 3
   },
   "file_extension": ".py",
   "mimetype": "text/x-python",
   "name": "python",
   "nbconvert_exporter": "python",
   "pygments_lexer": "ipython3",
   "version": "3.8.3"
  }
 },
 "nbformat": 4,
 "nbformat_minor": 4
}
