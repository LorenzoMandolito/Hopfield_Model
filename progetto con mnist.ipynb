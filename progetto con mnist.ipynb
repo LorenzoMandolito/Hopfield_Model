{
 "cells": [
  {
   "cell_type": "code",
   "execution_count": 1,
   "metadata": {},
   "outputs": [],
   "source": [
    "import numpy as np\n",
    "from matplotlib import pyplot"
   ]
  },
  {
   "cell_type": "code",
   "execution_count": 2,
   "metadata": {},
   "outputs": [],
   "source": [
    "def Crop(M_arr,P): #croppa una matrice M di pattern=righe e restituisce un M_mat (pattern=matrice)\n",
    "                   #COSTRUISCE ANCHE M_MAT\n",
    "    M_inv = np.zeros((28,28,P))\n",
    "    for i in range(0,P):\n",
    "        M_inv[:,:,i] = M_arr[i].reshape(28,28) #trasforma una matrice in un array di matrici da M a M_mat\n",
    "\n",
    "    return M_inv[3:23,3:23,:] #M_mat"
   ]
  },
  {
   "cell_type": "code",
   "execution_count": 3,
   "metadata": {},
   "outputs": [],
   "source": [
    "def Input_mnist(P):\n",
    "    import numpy as np\n",
    "    from keras.datasets import mnist\n",
    "                                            # loading\n",
    "    (X, y), (k,h) = mnist.load_data()\n",
    "                                            # Define patterns\n",
    "    M_arr = np.zeros((P,28*28))\n",
    "    l    = 0\n",
    "    flag = 0\n",
    "    for i in range(0,P):\n",
    "        for j in range(np.size(y)):\n",
    "            if y[j] == i:\n",
    "                if flag == 0:\n",
    "                    m = j\n",
    "                    M_arr[l,:] = np.ravel(X[j,:,:]) \n",
    "                    flag = 1\n",
    "                    l += 1\n",
    "        flag = 0\n",
    "        \n",
    "    for i in range(0,P):                  #SCALA DI GRIGI\n",
    "        M_arr[i] /= np.max(M_arr[i])\n",
    "    mask = M_arr<=0.5\n",
    "    M_arr[mask] = -1\n",
    "    M_arr[~mask] = 1\n",
    "    \n",
    "    M_mat = Crop(M_arr,P)\n",
    "    \n",
    "    M_arr = np.zeros((P,20*20))            #croppata\n",
    "    for i in range(0,P):\n",
    "        M_arr[i,:] = np.ravel(M_mat[:,:,i]) \n",
    "    return M_arr                           #M_mat è la matrici è la matrice che ha come pattern matrici\n",
    "\n",
    "#M_mat, M = Input_mnist(P)\n",
    "#plot_img(M_mat,P)"
   ]
  },
  {
   "cell_type": "code",
   "execution_count": 4,
   "metadata": {},
   "outputs": [],
   "source": [
    "def Crop_selection(M_arr,K=[]):\n",
    "    \n",
    "    M_inv = np.zeros((28,28,len(K)))\n",
    "    for i in range(len(K)):\n",
    "        M_inv[:,:,i] = M_arr[i].reshape(28,28)\n",
    "        \n",
    "    return M_inv[3:23,3:23,:]"
   ]
  },
  {
   "cell_type": "code",
   "execution_count": 5,
   "metadata": {},
   "outputs": [],
   "source": [
    "def Input_mnist_selection(K=[]):\n",
    "    import numpy as np\n",
    "    from keras.datasets import mnist\n",
    "    # loading\n",
    "    (X, y), (k,h) = mnist.load_data()\n",
    "    # Define patterns\n",
    "    M_arr = np.zeros((len(K),28*28))\n",
    "    l    = 0\n",
    "    flag = 0\n",
    "    for i in K:\n",
    "        for j in range(np.size(y)):\n",
    "            if y[j] == i:\n",
    "                if flag == 0:\n",
    "                    m = j\n",
    "                    M_arr[l,:] = np.ravel(X[j,:,:]) \n",
    "                    flag = 1\n",
    "                    l += 1\n",
    "        flag = 0\n",
    "    for i in range(len(K)):\n",
    "        M_arr[i] /= np.max(M_arr[i])\n",
    "    mask = M_arr<=0.5\n",
    "    M_arr[mask] = -1\n",
    "    M_arr[~mask] = 1\n",
    "    \n",
    "    M_mat = Crop_selection(M_arr,K)\n",
    "    M_arr = np.zeros((len(K),20*20))\n",
    "    for i in range(0,len(K)):\n",
    "        M_arr[i,:] = np.ravel(M_mat[:,:,i]) \n",
    "    return M_arr"
   ]
  },
  {
   "cell_type": "code",
   "execution_count": 6,
   "metadata": {},
   "outputs": [],
   "source": [
    "def Plot(M_arr,P):\n",
    "    M_inv = np.zeros((20,20,P))\n",
    "    for i in range(0,P):\n",
    "        M_inv[:,:,i] = M_arr[i].reshape(20,20)\n",
    "        pyplot.imshow(M_inv[:,:,i], cmap=pyplot.get_cmap('gray'))\n",
    "        pyplot.show()\n",
    "    #return M_inv"
   ]
  },
  {
   "cell_type": "code",
   "execution_count": 7,
   "metadata": {},
   "outputs": [],
   "source": [
    "def Plot_selection(M_arr,K=[]):\n",
    "    M_inv = np.zeros((20,20,len(K)))\n",
    "    for i in range(0,len(K)):\n",
    "        M_inv[:,:,i] = M_arr[i].reshape(20,20)\n",
    "        pyplot.imshow(M_inv[:,:,i], cmap=pyplot.get_cmap('gray'))\n",
    "        pyplot.show()\n",
    "    #return M_inv"
   ]
  },
  {
   "cell_type": "code",
   "execution_count": 8,
   "metadata": {},
   "outputs": [],
   "source": [
    "def J(M_arr):\n",
    "    \n",
    "    matrix_dim=M_arr.shape\n",
    "    J=np.zeros((matrix_dim[1],matrix_dim[1]))\n",
    "\n",
    "    for i in range(0,matrix_dim[1]):\n",
    "        for j in range(0,matrix_dim[1]):\n",
    "            if j!=i:\n",
    "                J[i,j]=np.sum([M_arr[a,i]*M_arr[a,j] for a in range(0,matrix_dim[0])])/matrix_dim[1]\n",
    "    return J"
   ]
  },
  {
   "cell_type": "code",
   "execution_count": 9,
   "metadata": {},
   "outputs": [],
   "source": [
    "# def J_final(M,n,P):\n",
    "#     matrix_dim=M.shape\n",
    "#     J_final=np.zeros((matrix_dim[1],matrix_dim[1]))\n",
    "#     M=M.reshape((P,n,n))\n",
    "    \n",
    "#     matrix_dim=M.shape\n",
    "#     for i in range(matrix_dim[1]):\n",
    "#         for j in range(matrix_dim[1]):\n",
    "#             for k in range(matrix_dim[1]):\n",
    "#                 for l in range(matrix_dim[1]):\n",
    "#                     dist=Distanza(i,j,k,l)\n",
    "#                     if i!=j and dist<=2 and dist!=0:\n",
    "#                         J_final[i,j]=np.sum([M[a,i,j]*M[a,k,l] for a in range(P)])\n",
    "#     return J_final"
   ]
  },
  {
   "cell_type": "code",
   "execution_count": 10,
   "metadata": {},
   "outputs": [],
   "source": [
    "def Distanza(i,j,k,l):\n",
    "    dist=np.sqrt((k-i)*(k-i)+(l-j)*(l-j))\n",
    "    return dist\n",
    "\n",
    "def Interazione(J,n,d):\n",
    "    \n",
    "    for i in range(n):\n",
    "            for j in range(n):\n",
    "                for k in range(n):\n",
    "                    for l in range(n):\n",
    "                        dist=Distanza(i,j,k,l)\n",
    "                        if dist>=d:\n",
    "                            a=i*n+j\n",
    "                            b=k*n+l\n",
    "                            J[a,b]=0\n",
    "    return J"
   ]
  },
  {
   "cell_type": "code",
   "execution_count": 11,
   "metadata": {},
   "outputs": [],
   "source": [
    "def Wrong_patterns(q,M_arr):\n",
    "    from numpy import random\n",
    "\n",
    "    Y=np.zeros((M_arr.shape))\n",
    "\n",
    "    for i in range(0,M_arr.shape[0]):\n",
    "        x=M_arr[i,:]\n",
    "\n",
    "        rand=np.random.random_sample()\n",
    "        for j in range(0,M_arr.shape[1]):\n",
    "            rand=np.random.random_sample()\n",
    "            if rand<=q:\n",
    "                Y[i,j]=x[j]\n",
    "            else:\n",
    "                Y[i,j]=-x[j]\n",
    "    return Y"
   ]
  },
  {
   "cell_type": "code",
   "execution_count": 12,
   "metadata": {},
   "outputs": [],
   "source": [
    "def update_y(J,y,M_arr,iter_max=100):\n",
    "    import numpy as np\n",
    "    flag = 1\n",
    "    t    = 0 \n",
    "    \n",
    "                            # Update\n",
    "    y_old    = np.zeros(len(y))\n",
    "    y_old[:] = y[:]\n",
    "    while(flag and t <= iter_max):\n",
    "        #print('old y:', y_old)\n",
    "        for i in range(J.shape[1]):\n",
    "            y[i] = np.sign(np.dot(J[i,:],y))\n",
    "            if (y[i]==0):\n",
    "                y[i] = 1\n",
    "            #print(y)\n",
    "        t += 1\n",
    "        k = 0\n",
    "        for j in range(0,len(y)):\n",
    "            if(y[j] == y_old[j]):\n",
    "                k += 1\n",
    "        if k==len(y):\n",
    "            flag = 0\n",
    "        else:\n",
    "            y_old[:] = y[:]\n",
    "                \n",
    "                                # Pattern of y updated\n",
    "    P_a = -1\n",
    "    if (flag == 0):\n",
    "        for i in range(M_arr.shape[0]):\n",
    "            k = 0\n",
    "            for j in range(0,len(y)):\n",
    "                if(y[j] == M_arr[i,j]):\n",
    "                    k += 1\n",
    "            if k == len(y):\n",
    "                P_a = i\n",
    "    #print(\"Final y:\")\n",
    "    #print(y)\n",
    "    return P_a,t"
   ]
  },
  {
   "cell_type": "code",
   "execution_count": 13,
   "metadata": {},
   "outputs": [
    {
     "ename": "TypeError",
     "evalue": "Interazione() missing 1 required positional argument: 'd'",
     "output_type": "error",
     "traceback": [
      "\u001b[1;31m---------------------------------------------------------------------------\u001b[0m",
      "\u001b[1;31mTypeError\u001b[0m                                 Traceback (most recent call last)",
      "\u001b[1;32m<ipython-input-13-349e06bfebcf>\u001b[0m in \u001b[0;36m<module>\u001b[1;34m\u001b[0m\n\u001b[0;32m      7\u001b[0m \u001b[0mA\u001b[0m\u001b[1;33m=\u001b[0m\u001b[0mnp\u001b[0m\u001b[1;33m.\u001b[0m\u001b[0mzeros\u001b[0m\u001b[1;33m(\u001b[0m\u001b[1;33m(\u001b[0m\u001b[1;36m400\u001b[0m\u001b[1;33m,\u001b[0m\u001b[1;36m400\u001b[0m\u001b[1;33m)\u001b[0m\u001b[1;33m)\u001b[0m\u001b[1;33m\u001b[0m\u001b[1;33m\u001b[0m\u001b[0m\n\u001b[0;32m      8\u001b[0m \u001b[0mA\u001b[0m\u001b[1;33m[\u001b[0m\u001b[1;33m:\u001b[0m\u001b[1;33m,\u001b[0m\u001b[1;33m:\u001b[0m\u001b[1;33m]\u001b[0m\u001b[1;33m=\u001b[0m\u001b[0mJ_matrix\u001b[0m\u001b[1;33m[\u001b[0m\u001b[1;33m:\u001b[0m\u001b[1;33m,\u001b[0m\u001b[1;33m:\u001b[0m\u001b[1;33m]\u001b[0m\u001b[1;33m\u001b[0m\u001b[1;33m\u001b[0m\u001b[0m\n\u001b[1;32m----> 9\u001b[1;33m \u001b[0mJ_corretta\u001b[0m\u001b[1;33m=\u001b[0m\u001b[0mInterazione\u001b[0m\u001b[1;33m(\u001b[0m\u001b[0mA\u001b[0m\u001b[1;33m,\u001b[0m\u001b[1;36m20\u001b[0m\u001b[1;33m)\u001b[0m\u001b[1;33m\u001b[0m\u001b[1;33m\u001b[0m\u001b[0m\n\u001b[0m\u001b[0;32m     10\u001b[0m \u001b[0mprint\u001b[0m\u001b[1;33m(\u001b[0m\u001b[1;34m'J: \\n'\u001b[0m\u001b[1;33m,\u001b[0m \u001b[0mJ_matrix\u001b[0m\u001b[1;33m)\u001b[0m\u001b[1;33m\u001b[0m\u001b[1;33m\u001b[0m\u001b[0m\n\u001b[0;32m     11\u001b[0m \u001b[0mprint\u001b[0m\u001b[1;33m(\u001b[0m\u001b[0mJ_corretta\u001b[0m\u001b[1;33m)\u001b[0m\u001b[1;33m\u001b[0m\u001b[1;33m\u001b[0m\u001b[0m\n",
      "\u001b[1;31mTypeError\u001b[0m: Interazione() missing 1 required positional argument: 'd'"
     ]
    }
   ],
   "source": [
    "P=4\n",
    "K=[0,1,2,3,4,5,6,7,8,9]\n",
    "M_arr=Input_mnist_selection(K)\n",
    "#M_arr=Input_mnist(P)\n",
    "M_arr = np.array(M_arr,dtype=np.float64)\n",
    "J_matrix=J(M_arr)\n",
    "A=np.zeros((400,400))\n",
    "A[:,:]=J_matrix[:,:]\n",
    "J_corretta=Interazione(A,20)\n",
    "print('J: \\n', J_matrix)\n",
    "print(J_corretta)"
   ]
  },
  {
   "cell_type": "code",
   "execution_count": null,
   "metadata": {},
   "outputs": [],
   "source": []
  },
  {
   "cell_type": "code",
   "execution_count": null,
   "metadata": {},
   "outputs": [],
   "source": [
    "Y_1=Wrong_patterns(0.9,M_arr)\n",
    "Y_2=np.zeros(Y_1.shape)\n",
    "Y_2[:,:]=Y_1[:,:]\n",
    "#Matrix_mnist(Y,P)\n",
    "Plot_selection(Y_1,K)"
   ]
  },
  {
   "cell_type": "code",
   "execution_count": null,
   "metadata": {},
   "outputs": [],
   "source": [
    "for j in range(0,len(K)):\n",
    "        pattern_giusto, iterazione= update_y(J_matrix,Y_1[j],M_arr) \n",
    "        if pattern_giusto==-1:\n",
    "            print('no pattern detected in:', iterazione, 'iterations \\n')\n",
    "        else:\n",
    "            print('pattern detected: ', pattern_giusto, 'in ', iterazione, 'iterations \\n')\n",
    "Plot_selection(Y_1,K)"
   ]
  },
  {
   "cell_type": "code",
   "execution_count": null,
   "metadata": {},
   "outputs": [],
   "source": [
    "for j in range(0,len(K)):\n",
    "        pattern_giusto, iterazione= update_y(J_corretta,Y_2[j],M_arr) \n",
    "        if pattern_giusto==-1:\n",
    "            print('no pattern detected in:', iterazione, 'iterations \\n')\n",
    "        else:\n",
    "            print('pattern detected: ', pattern_giusto, 'in ', iterazione, 'iterations \\n')\n",
    "Plot_selection(Y_2,K)"
   ]
  }
 ],
 "metadata": {
  "kernelspec": {
   "display_name": "Python 3",
   "language": "python",
   "name": "python3"
  },
  "language_info": {
   "codemirror_mode": {
    "name": "ipython",
    "version": 3
   },
   "file_extension": ".py",
   "mimetype": "text/x-python",
   "name": "python",
   "nbconvert_exporter": "python",
   "pygments_lexer": "ipython3",
   "version": "3.7.9"
  }
 },
 "nbformat": 4,
 "nbformat_minor": 4
}
