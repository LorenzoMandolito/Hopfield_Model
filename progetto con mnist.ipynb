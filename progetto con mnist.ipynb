{
 "cells": [
  {
   "cell_type": "code",
   "execution_count": 33,
   "metadata": {},
   "outputs": [],
   "source": [
    "import numpy as np\n",
    "from matplotlib import pyplot\n",
    "\n",
    "P=4"
   ]
  },
  {
   "cell_type": "code",
   "execution_count": 34,
   "metadata": {},
   "outputs": [],
   "source": [
    "def Matrix_mnist(M,P):\n",
    "    from matplotlib import pyplot\n",
    "    M_inv = np.zeros((28,28,P))\n",
    "    for i in range(0,P):\n",
    "        M_inv[:,:,i] = M[i].reshape(28,28)\n",
    "    return M_inv[3:23, 3:23, :]\n"
   ]
  },
  {
   "cell_type": "code",
   "execution_count": 35,
   "metadata": {
    "scrolled": true
   },
   "outputs": [],
   "source": [
    "def Input_mnist(P):\n",
    "    import numpy as np\n",
    "    from keras.datasets import mnist\n",
    "    # loading\n",
    "    (X, y), (k,h) = mnist.load_data()\n",
    "    # Define patterns\n",
    "    M = np.zeros((P,28*28))\n",
    "    l    = 0\n",
    "    flag = 0\n",
    "    for i in range(0,P):\n",
    "        for j in range(np.size(y)):\n",
    "            if y[j] == i:\n",
    "                if flag == 0:\n",
    "                    m = j\n",
    "                    M[l,:] = np.ravel(X[j,:,:]) \n",
    "                    flag = 1\n",
    "                    l += 1\n",
    "        flag = 0\n",
    "    for i in range(0,P):\n",
    "        M[i] /= np.max(M[i])\n",
    "    mask = M<=0.5\n",
    "    M[mask] = -1\n",
    "    M[~mask] = 1        \n",
    "    M_mat = Matrix_mnist(M,P)\n",
    "    M = np.zeros((P,20*20))\n",
    "    for i in range(0,P):\n",
    "        M[i,:] = np.ravel(M_mat[:,:,i]) \n",
    "    return M_mat, M\n",
    "\n",
    "M_mat, M = Input_mnist(P)\n",
    "\n",
    "def plot_img(M,P):\n",
    "    for i in range(0,P):\n",
    "        pyplot.imshow(M[:,:, i], cmap=pyplot.get_cmap('gray'))\n",
    "        pyplot.show()\n",
    "        \n"
   ]
  },
  {
   "cell_type": "code",
   "execution_count": 36,
   "metadata": {},
   "outputs": [],
   "source": [
    "\n",
    "def J(M):\n",
    "    \n",
    "    matrix_dim=M.shape\n",
    "    J=np.zeros((matrix_dim[1],matrix_dim[1]))\n",
    "\n",
    "    for i in range(0,matrix_dim[1]):\n",
    "        for j in range(0,matrix_dim[1]):\n",
    "            if j!=i:\n",
    "                J[i,j]=np.sum([M[a,i]*M[a,j] for a in range(0,matrix_dim[0])])/matrix_dim[1]\n",
    "    return J"
   ]
  },
  {
   "cell_type": "code",
   "execution_count": 37,
   "metadata": {},
   "outputs": [],
   "source": [
    "def Wrong_patterns(q,M):\n",
    "    from numpy import random\n",
    "\n",
    "    Y=np.zeros((M.shape))\n",
    "\n",
    "    for i in range(0,M.shape[0]):\n",
    "        x=M[i,:]\n",
    "\n",
    "        rand=np.random.random_sample()\n",
    "        for j in range(0,M.shape[1]):\n",
    "            rand=np.random.random_sample()\n",
    "            if rand<=q:\n",
    "                Y[i,j]=x[j]\n",
    "            else:\n",
    "                Y[i,j]=-x[j]\n",
    "    return Y"
   ]
  },
  {
   "cell_type": "code",
   "execution_count": 38,
   "metadata": {},
   "outputs": [],
   "source": [
    "def update_y(J,y,M,iter_max=100):\n",
    "    import numpy as np\n",
    "    flag = 1\n",
    "    t    = 0 \n",
    "    \n",
    "    # Update\n",
    "    y_old    = np.zeros(len(y))\n",
    "    y_old[:] = y[:]\n",
    "    while(flag and t <= iter_max):\n",
    "        #print('old y:', y_old)\n",
    "        for i in range(J.shape[1]):\n",
    "            y[i] = np.sign(np.dot(J[i,:],y))\n",
    "            if (y[i]==0):\n",
    "                y[i] = 1\n",
    "            #print(y)\n",
    "        t += 1\n",
    "        k = 0\n",
    "        for j in range(0,len(y)):\n",
    "            if(y[j] == y_old[j]):\n",
    "                k += 1\n",
    "        if k==len(y):\n",
    "            flag = 0\n",
    "        else:\n",
    "            y_old[:] = y[:]\n",
    "                \n",
    "    # Pattern of y updated\n",
    "    P_a = -1\n",
    "    if (flag == 0):\n",
    "        for i in range(M.shape[0]):\n",
    "            k = 0\n",
    "            for j in range(0,len(y)):\n",
    "                if(y[j] == M[i,j]):\n",
    "                    k += 1\n",
    "            if k == len(y):\n",
    "                P_a = i\n",
    "    #print(\"Final y:\")\n",
    "    #print(y)\n",
    "    return P_a,t"
   ]
  },
  {
   "cell_type": "code",
   "execution_count": 39,
   "metadata": {},
   "outputs": [
    {
     "name": "stdout",
     "output_type": "stream",
     "text": [
      "patterns: [[-1. -1. -1. ... -1. -1. -1.]\n",
      " [-1. -1. -1. ... -1. -1. -1.]\n",
      " [-1. -1. -1. ... -1. -1. -1.]\n",
      " [-1. -1. -1. ... -1. -1. -1.]] \n",
      " shape: \n",
      " (4, 400)\n",
      "J: \n",
      " [[0.   0.01 0.01 ... 0.01 0.01 0.01]\n",
      " [0.01 0.   0.01 ... 0.01 0.01 0.01]\n",
      " [0.01 0.01 0.   ... 0.01 0.01 0.01]\n",
      " ...\n",
      " [0.01 0.01 0.01 ... 0.   0.01 0.01]\n",
      " [0.01 0.01 0.01 ... 0.01 0.   0.01]\n",
      " [0.01 0.01 0.01 ... 0.01 0.01 0.  ]]\n"
     ]
    }
   ],
   "source": [
    "\n",
    "_,M=Input_mnist(P)\n",
    "M = np.array(M,dtype=np.float64)\n",
    "J_matrix=J(M)\n",
    "\n",
    "print('patterns:',M, '\\n', 'shape: \\n', M.shape)\n",
    "print('J: \\n', J_matrix)"
   ]
  },
  {
   "cell_type": "code",
   "execution_count": 40,
   "metadata": {},
   "outputs": [],
   "source": [
    "def pippo(M,P):\n",
    "    from matplotlib import pyplot\n",
    "    M_inv = np.zeros((20,20,P))\n",
    "    for i in range(0,P):\n",
    "        M_inv[:,:,i] = M[i].reshape(20,20)\n",
    "        pyplot.imshow(M_inv[:,:,i], cmap=pyplot.get_cmap('gray'))\n",
    "        pyplot.show()\n",
    "    return M_inv"
   ]
  },
  {
   "cell_type": "code",
   "execution_count": 43,
   "metadata": {},
   "outputs": [
    {
     "data": {
      "image/png": "[encoded data removed]",
      "text/plain": [
       "<Figure size 432x288 with 1 Axes>"
      ]
     },
     "metadata": {
      "needs_background": "light"
     },
     "output_type": "display_data"
    },
    {
     "data": {
      "image/png": "[encoded data removed]",
      "text/plain": [
       "<Figure size 432x288 with 1 Axes>"
      ]
     },
     "metadata": {
      "needs_background": "light"
     },
     "output_type": "display_data"
    },
    {
     "data": {
      "image/png": "[encoded data removed]",
      "text/plain": [
       "<Figure size 432x288 with 1 Axes>"
      ]
     },
     "metadata": {
      "needs_background": "light"
     },
     "output_type": "display_data"
    },
    {
     "data": {
      "image/png": "[encoded data removed]",
      "text/plain": [
       "<Figure size 432x288 with 1 Axes>"
      ]
     },
     "metadata": {
      "needs_background": "light"
     },
     "output_type": "display_data"
    },
    {
     "data": {
      "text/plain": [
       "array([[[-1., -1., -1., -1.],\n",
       "        [-1., -1., -1., -1.],\n",
       "        [-1., -1., -1., -1.],\n",
       "        ...,\n",
       "        [-1., -1., -1., -1.],\n",
       "        [-1., -1., -1., -1.],\n",
       "        [-1., -1., -1., -1.]],\n",
       "\n",
       "       [[-1., -1., -1., -1.],\n",
       "        [-1., -1., -1., -1.],\n",
       "        [-1., -1., -1., -1.],\n",
       "        ...,\n",
       "        [-1., -1., -1., -1.],\n",
       "        [-1., -1., -1., -1.],\n",
       "        [-1., -1., -1., -1.]],\n",
       "\n",
       "       [[-1., -1., -1., -1.],\n",
       "        [-1., -1., -1., -1.],\n",
       "        [-1., -1., -1., -1.],\n",
       "        ...,\n",
       "        [-1.,  1., -1.,  1.],\n",
       "        [-1., -1., -1., -1.],\n",
       "        [-1., -1., -1., -1.]],\n",
       "\n",
       "       ...,\n",
       "\n",
       "       [[-1., -1., -1., -1.],\n",
       "        [-1., -1., -1., -1.],\n",
       "        [-1., -1.,  1., -1.],\n",
       "        ...,\n",
       "        [-1., -1., -1., -1.],\n",
       "        [-1., -1., -1., -1.],\n",
       "        [-1., -1., -1., -1.]],\n",
       "\n",
       "       [[-1., -1., -1., -1.],\n",
       "        [-1., -1., -1., -1.],\n",
       "        [-1., -1.,  1.,  1.],\n",
       "        ...,\n",
       "        [-1., -1., -1., -1.],\n",
       "        [-1., -1., -1., -1.],\n",
       "        [-1., -1., -1., -1.]],\n",
       "\n",
       "       [[-1., -1., -1., -1.],\n",
       "        [-1., -1., -1., -1.],\n",
       "        [-1., -1., -1.,  1.],\n",
       "        ...,\n",
       "        [-1., -1., -1., -1.],\n",
       "        [-1., -1., -1., -1.],\n",
       "        [-1., -1., -1., -1.]]])"
      ]
     },
     "execution_count": 43,
     "metadata": {},
     "output_type": "execute_result"
    }
   ],
   "source": [
    "Y=Wrong_patterns(0.999,M)\n",
    "\n",
    "pippo(Y,P)"
   ]
  },
  {
   "cell_type": "code",
   "execution_count": 44,
   "metadata": {},
   "outputs": [
    {
     "name": "stdout",
     "output_type": "stream",
     "text": [
      "pattern detected:  0 in  2 iterations \n",
      "\n",
      "no pattern detected in: 2 iterations \n",
      "\n",
      "no pattern detected in: 2 iterations \n",
      "\n",
      "no pattern detected in: 2 iterations \n",
      "\n"
     ]
    },
    {
     "data": {
      "image/png": "[encoded data removed]",
      "text/plain": [
       "<Figure size 432x288 with 1 Axes>"
      ]
     },
     "metadata": {
      "needs_background": "light"
     },
     "output_type": "display_data"
    },
    {
     "data": {
      "image/png": "[encoded data removed]",
      "text/plain": [
       "<Figure size 432x288 with 1 Axes>"
      ]
     },
     "metadata": {
      "needs_background": "light"
     },
     "output_type": "display_data"
    },
    {
     "data": {
      "image/png": "[encoded data removed]",
      "text/plain": [
       "<Figure size 432x288 with 1 Axes>"
      ]
     },
     "metadata": {
      "needs_background": "light"
     },
     "output_type": "display_data"
    },
    {
     "data": {
      "image/png": "[encoded data removed]",
      "text/plain": [
       "<Figure size 432x288 with 1 Axes>"
      ]
     },
     "metadata": {
      "needs_background": "light"
     },
     "output_type": "display_data"
    },
    {
     "data": {
      "text/plain": [
       "array([[[-1., -1., -1., -1.],\n",
       "        [-1., -1., -1., -1.],\n",
       "        [-1., -1., -1., -1.],\n",
       "        ...,\n",
       "        [-1., -1., -1., -1.],\n",
       "        [-1., -1., -1., -1.],\n",
       "        [-1., -1., -1., -1.]],\n",
       "\n",
       "       [[-1., -1., -1., -1.],\n",
       "        [-1., -1., -1., -1.],\n",
       "        [-1., -1., -1., -1.],\n",
       "        ...,\n",
       "        [-1., -1., -1., -1.],\n",
       "        [-1., -1., -1., -1.],\n",
       "        [-1., -1., -1., -1.]],\n",
       "\n",
       "       [[-1., -1., -1., -1.],\n",
       "        [-1., -1., -1., -1.],\n",
       "        [-1., -1., -1., -1.],\n",
       "        ...,\n",
       "        [-1.,  1., -1.,  1.],\n",
       "        [-1., -1., -1., -1.],\n",
       "        [-1., -1., -1., -1.]],\n",
       "\n",
       "       ...,\n",
       "\n",
       "       [[-1., -1., -1., -1.],\n",
       "        [-1., -1., -1., -1.],\n",
       "        [-1., -1., -1., -1.],\n",
       "        ...,\n",
       "        [-1., -1., -1., -1.],\n",
       "        [-1., -1., -1., -1.],\n",
       "        [-1., -1., -1., -1.]],\n",
       "\n",
       "       [[-1., -1., -1., -1.],\n",
       "        [-1., -1., -1., -1.],\n",
       "        [-1., -1.,  1.,  1.],\n",
       "        ...,\n",
       "        [-1., -1., -1., -1.],\n",
       "        [-1., -1., -1., -1.],\n",
       "        [-1., -1., -1., -1.]],\n",
       "\n",
       "       [[-1., -1., -1., -1.],\n",
       "        [-1., -1., -1., -1.],\n",
       "        [-1., -1., -1., -1.],\n",
       "        ...,\n",
       "        [-1., -1., -1., -1.],\n",
       "        [-1., -1., -1., -1.],\n",
       "        [-1., -1., -1., -1.]]])"
      ]
     },
     "execution_count": 44,
     "metadata": {},
     "output_type": "execute_result"
    }
   ],
   "source": [
    "for j in range(0,P):\n",
    "        pattern_giusto, iterazione= update_y(J_matrix,Y[j],M) \n",
    "        if pattern_giusto==-1:\n",
    "            print('no pattern detected in:', iterazione, 'iterations \\n')\n",
    "        else:\n",
    "            print('pattern detected: ', pattern_giusto, 'in ', iterazione, 'iterations \\n')\n",
    "            \n",
    "pippo(Y,P)"
   ]
  },
  {
   "cell_type": "code",
   "execution_count": null,
   "metadata": {},
   "outputs": [],
   "source": []
  },
  {
   "cell_type": "code",
   "execution_count": null,
   "metadata": {},
   "outputs": [],
   "source": []
  },
  {
   "cell_type": "code",
   "execution_count": null,
   "metadata": {},
   "outputs": [],
   "source": []
  }
 ],
 "metadata": {
  "kernelspec": {
   "display_name": "Python 3",
   "language": "python",
   "name": "python3"
  },
  "language_info": {
   "codemirror_mode": {
    "name": "ipython",
    "version": 3
   },
   "file_extension": ".py",
   "mimetype": "text/x-python",
   "name": "python",
   "nbconvert_exporter": "python",
   "pygments_lexer": "ipython3",
   "version": "3.7.9"
  }
 },
 "nbformat": 4,
 "nbformat_minor": 4
}
